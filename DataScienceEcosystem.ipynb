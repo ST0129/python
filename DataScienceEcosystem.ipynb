{
 "cells": [
  {
   "cell_type": "markdown",
   "id": "7104c4e9-906a-40e5-92e1-6893e4d7327e",
   "metadata": {},
   "source": [
    "# Data Science Tools and Ecosystem"
   ]
  },
  {
   "cell_type": "markdown",
   "id": "1da3a9e8-eb9c-4be2-a496-3cdfc233200e",
   "metadata": {},
   "source": [
    "In this notebook I will summarize  Data Science Tools and Ecosystem"
   ]
  },
  {
   "cell_type": "markdown",
   "id": "a845a4f8-521e-415a-9bec-05c020ebde16",
   "metadata": {},
   "source": [
    "**Objectives**\n",
    "+ popular lenguages for data scientists\n",
    "+ common libraries\n",
    "+ data science tools\n",
    "+ arithmetic expressions in python"
   ]
  },
  {
   "cell_type": "markdown",
   "id": "6b22694e-b516-4731-98c6-5fa02e17da80",
   "metadata": {},
   "source": [
    "to start, some of the most popular lenguages for data scientists are:\n",
    "1. Python\n",
    "2. R\n",
    "3. SQL"
   ]
  },
  {
   "cell_type": "markdown",
   "id": "d5d44fac-08ce-4467-ac3d-09c578bd27a2",
   "metadata": {},
   "source": [
    "Some of the most common libraries used by data scientists include:\n",
    "1. dplyr\n",
    "2. ggplot\n",
    "3. Caret"
   ]
  },
  {
   "cell_type": "markdown",
   "id": "ca2685a5-ca77-4bf0-a116-4ef99a44fd3d",
   "metadata": {},
   "source": [
    "|Data Science Tools|\n",
    "|------------------|\n",
    "|RStudio|\n",
    "|Jupyter Notebook|\n",
    "|Visual studio code|\n"
   ]
  },
  {
   "cell_type": "markdown",
   "id": "86db2a73-eef0-4396-a20c-8bee2d219b62",
   "metadata": {},
   "source": [
    "### Here are a few examples for evaluating arithmetic expressions in Python"
   ]
  },
  {
   "cell_type": "markdown",
   "id": "26393d88-7adb-4743-8ddb-fc24fbd50a80",
   "metadata": {},
   "source": [
    "this is a simple arithmetic expression to multiply then add integers"
   ]
  },
  {
   "cell_type": "code",
   "execution_count": 2,
   "id": "a5c53f7d-032d-4378-aca0-94e58cec7f4f",
   "metadata": {},
   "outputs": [
    {
     "data": {
      "text/plain": [
       "17"
      ]
     },
     "execution_count": 2,
     "metadata": {},
     "output_type": "execute_result"
    }
   ],
   "source": [
    "(3*4)+5"
   ]
  },
  {
   "cell_type": "markdown",
   "id": "cdbdb6c2-b1ce-4941-9d51-a9fd0db873b0",
   "metadata": {},
   "source": [
    "This will convert 200 minutes to hours by diving by 60"
   ]
  },
  {
   "cell_type": "code",
   "execution_count": 4,
   "id": "c3365f9f-c391-4846-9322-e7ae4c0ca505",
   "metadata": {},
   "outputs": [
    {
     "data": {
      "text/plain": [
       "3.3333333333333335"
      ]
     },
     "execution_count": 4,
     "metadata": {},
     "output_type": "execute_result"
    }
   ],
   "source": [
    "200/60"
   ]
  },
  {
   "cell_type": "markdown",
   "id": "0777720f-8390-4afb-9f20-53e735538690",
   "metadata": {},
   "source": [
    "## Author"
   ]
  },
  {
   "cell_type": "markdown",
   "id": "abc32670-c4df-492c-bb16-9e6e02c4b9c9",
   "metadata": {},
   "source": [
    "Santiago Tobon Cardona"
   ]
  },
  {
   "cell_type": "code",
   "execution_count": null,
   "id": "89ebca86-858a-4976-ac93-8f0cb580696a",
   "metadata": {},
   "outputs": [],
   "source": []
  }
 ],
 "metadata": {
  "kernelspec": {
   "display_name": "Python 3 (ipykernel)",
   "language": "python",
   "name": "python3"
  },
  "language_info": {
   "codemirror_mode": {
    "name": "ipython",
    "version": 3
   },
   "file_extension": ".py",
   "mimetype": "text/x-python",
   "name": "python",
   "nbconvert_exporter": "python",
   "pygments_lexer": "ipython3",
   "version": "3.13.5"
  }
 },
 "nbformat": 4,
 "nbformat_minor": 5
}
